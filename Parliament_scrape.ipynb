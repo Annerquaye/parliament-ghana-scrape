{
 "cells": [
  {
   "cell_type": "code",
   "execution_count": 1,
   "id": "4ea38441",
   "metadata": {},
   "outputs": [],
   "source": [
    "from bs4 import BeautifulSoup\n",
    "from time import sleep\n",
    "import requests\n",
    "import pdb\n",
    "import os"
   ]
  },
  {
   "cell_type": "code",
   "execution_count": 2,
   "id": "df030d85",
   "metadata": {},
   "outputs": [],
   "source": [
    "# suppress warnings\n",
    "import warnings\n",
    "warnings.filterwarnings(\"ignore\")\n"
   ]
  },
  {
   "cell_type": "code",
   "execution_count": 7,
   "id": "04d6c25a",
   "metadata": {},
   "outputs": [
    {
     "name": "stdout",
     "output_type": "stream",
     "text": [
      "/Users/richardabbey/Desktop/Data_Studio/fancy-charts\r\n"
     ]
    }
   ],
   "source": [
    "!pwd"
   ]
  },
  {
   "cell_type": "code",
   "execution_count": 8,
   "id": "bb724454",
   "metadata": {},
   "outputs": [],
   "source": [
    "FOLDER_LOCATION = '/Users/richardabbey/Desktop/Data_Studio/fancy-charts/parliament'\n",
    "BASE_URL = 'http://ir.parliament.gh'"
   ]
  },
  {
   "cell_type": "code",
   "execution_count": 17,
   "id": "c05dc0bc",
   "metadata": {},
   "outputs": [
    {
     "name": "stdout",
     "output_type": "stream",
     "text": [
      "DOWNLOADING PAGE 0\n",
      "DOWNLOADING PAGE 1\n",
      "DOWNLOADING PAGE 2\n",
      "DOWNLOADING PAGE 3\n",
      "DOWNLOADING PAGE 4\n",
      "DOWNLOADING PAGE 5\n",
      "DOWNLOADING PAGE 6\n",
      "DOWNLOADING PAGE 7\n",
      "DOWNLOADING PAGE 8\n",
      "DOWNLOADING PAGE 9\n",
      "DOWNLOADING PAGE 10\n",
      "DOWNLOADING PAGE 11\n",
      "DOWNLOADING PAGE 12\n",
      "DOWNLOADING PAGE 13\n",
      "DOWNLOADING PAGE 14\n",
      "DOWNLOADING PAGE 15\n",
      "DOWNLOADING PAGE 16\n",
      "DOWNLOADING PAGE 17\n",
      "DOWNLOADING PAGE 18\n",
      "DOWNLOADING PAGE 19\n"
     ]
    }
   ],
   "source": [
    "# pagination\n",
    "# Loop from 1 to 16 (we looked at the website, noticed there are 16 pages)\n",
    "for i in range(0,20):\n",
    "    print(f\"DOWNLOADING PAGE {i}\")\n"
   ]
  },
  {
   "cell_type": "code",
   "execution_count": 13,
   "id": "a84226af",
   "metadata": {},
   "outputs": [],
   "source": [
    "# get all search results on each page\n",
    "url = f\"http://ir.parliament.gh/discover?scope=/&rpp=10&page={i}&query=tax+waiver&group_by=none&etal=0\"\n",
    "response = requests.get(url, verify=False)\n",
    "soup = BeautifulSoup(response.text, \"html.parser\")\n",
    "search_results = soup.select(\".artifact-title a\")\n"
   ]
  },
  {
   "cell_type": "code",
   "execution_count": 19,
   "id": "7b7c7b28",
   "metadata": {},
   "outputs": [
    {
     "name": "stdout",
     "output_type": "stream",
     "text": [
      "Downloading http://ir.parliament.gh//bitstream/handle/123456789/417/doc05268520160715112547.pdf?sequence=1&isAllowed=y saving to /Users/richardabbey/Desktop/Data_Studio/fancy-charts/parliament/doc05268520160715112547.pdf\n",
      "Downloading http://ir.parliament.gh//bitstream/handle/123456789/142/doc02651020151026130811%20-%20Copy.pdf?sequence=1&isAllowed=y saving to /Users/richardabbey/Desktop/Data_Studio/fancy-charts/parliament/doc02651020151026130811%20-%20Copy.pdf\n",
      "Downloading http://ir.parliament.gh//bitstream/handle/123456789/368/MEMO%20TO%20PARLIAMENT%20BY%20HON.%20SETH%20E.%20TERKPER%20MINISTER%20OF%20FINANCE%20ON%20THE%20WAIVER%20OF%20TAXES%20AND%20DUTIES%20FOR%20THE%20GHANA%20INSTITUTIONAL%20SUPPORT%20PROJECT%20TO%20OVERSIGHT%20AND%20PRIVATE%20SECTOR%20DEVELOPMENT%20INSTITUTIONS%20%28GISP%29..pdf?sequence=1&isAllowed=y saving to /Users/richardabbey/Desktop/Data_Studio/fancy-charts/parliament/MEMO%20TO%20PARLIAMENT%20BY%20HON.%20SETH%20E.%20TERKPER%20MINISTER%20OF%20FINANCE%20ON%20THE%20WAIVER%20OF%20TAXES%20AND%20DUTIES%20FOR%20THE%20GHANA%20INSTITUTIONAL%20SUPPORT%20PROJECT%20TO%20OVERSIGHT%20AND%20PRIVATE%20SECTOR%20DEVELOPMENT%20INSTITUTIONS%20%28GISP%29..pdf\n",
      "ERROR DOWNLOADING <a href=\"/handle/123456789/368\">MEMORANDUM TO PARLIAMENT BY HON. SETH E. TERKPER MINISTER OF FINANCE ON THE <span class=\"highlight\">WAIVER</span> OF <span class=\"highlight\">TAXES</span> AND DUTIES FOR THE GHANA INSTITUTIONAL SUPPORT PROJECT TO OVERSIGHT AND PRIVATE SECTOR DEVELOPMENT INSTITUTIONS (GISP)..pdf</a>\n",
      "Downloading http://ir.parliament.gh//bitstream/handle/123456789/389/MEMORANDUM%20TO%20PARLIAMENT%20BY%20THE%20MINISTER%20OF%20FINANCE%20ON%20THE%20WAIVER%20OF%20APPLICABLE%20TAXES%20ON%20ONSHORE%20COMPONENT%20FOR%20PHASE%20II%20OF%20THE%20DEDICATED%20SECURED%20COMMUNICATIONS%20SYSTEMS%20FOR%20GHANA%27S%20PUBLIC%20ADMINISTRATION%20AND%20EMERGENCY%20SERVICES.pdf?sequence=1&isAllowed=y saving to /Users/richardabbey/Desktop/Data_Studio/fancy-charts/parliament/MEMORANDUM%20TO%20PARLIAMENT%20BY%20THE%20MINISTER%20OF%20FINANCE%20ON%20THE%20WAIVER%20OF%20APPLICABLE%20TAXES%20ON%20ONSHORE%20COMPONENT%20FOR%20PHASE%20II%20OF%20THE%20DEDICATED%20SECURED%20COMMUNICATIONS%20SYSTEMS%20FOR%20GHANA%27S%20PUBLIC%20ADMINISTRATION%20AND%20EMERGENCY%20SERVICES.pdf\n",
      "ERROR DOWNLOADING <a href=\"/handle/123456789/389\">MEMORANDUM TO PARLIAMENT  BY MINISTER OF FINANCE ON THE <span class=\"highlight\">WAIVER</span> OF APPLICABLE <span class=\"highlight\">TAXES</span> ON SHORE COMPONENT ON PHASE11 ON THE DEDICATED COMMUNICATIONS SYSTEMS  FOR THE GHANA PUBLIC  ADMINISTRATION AND EMERGENCY SERVICE</a>\n",
      "Downloading http://ir.parliament.gh//bitstream/handle/123456789/111/MEMO-%20PARLIAMENTARY%20MEMO-%20ON%20THE%20WAIVER%20OF%20TAXES%20AND%20DUTIES%20FOR%20THE%20GHANA%20INSTITUTIONAL%20SUPPORT%20PROJECT%20TO%20OVERSIGHT%20AND%20PRVATE%20SECTOR%20DEVELOPMENT%20INSTITUTIONS%20%28GISP%29%20DATE%20AUGUST%202014.pdf?sequence=1&isAllowed=y saving to /Users/richardabbey/Desktop/Data_Studio/fancy-charts/parliament/MEMO-%20PARLIAMENTARY%20MEMO-%20ON%20THE%20WAIVER%20OF%20TAXES%20AND%20DUTIES%20FOR%20THE%20GHANA%20INSTITUTIONAL%20SUPPORT%20PROJECT%20TO%20OVERSIGHT%20AND%20PRVATE%20SECTOR%20DEVELOPMENT%20INSTITUTIONS%20%28GISP%29%20DATE%20AUGUST%202014.pdf\n",
      "Downloading http://ir.parliament.gh//bitstream/handle/123456789/89/doc02102620150611075619.pdf?sequence=1&isAllowed=y saving to /Users/richardabbey/Desktop/Data_Studio/fancy-charts/parliament/doc02102620150611075619.pdf\n",
      "Downloading http://ir.parliament.gh//bitstream/handle/123456789/143/doc02651120151026130853%20-%20Copy.pdf?sequence=1&isAllowed=y saving to /Users/richardabbey/Desktop/Data_Studio/fancy-charts/parliament/doc02651120151026130853%20-%20Copy.pdf\n",
      "Downloading http://ir.parliament.gh//bitstream/handle/123456789/98/FINANCE%20COM-%20REPORT%20OF%20THE%20FINANCE%20COMMITTEE%20ON%20REQUEST%20FOR%20WAIVER%20OF%20TAXES%20%20FOR%20THE%20AMOUNT%20OF%20US%24%204%2c901%2c386%2c09%20ON%20DIRECT%20PROJECT%20EXPENDITURE%20-%20IMPLEMENTATION%20OF%20GHANA%20DEDICATED%20SECURITY%20INFORMATION%20SYSTEM%20PROJECT%20PHASE%2011?sequence=1&isAllowed=y saving to /Users/richardabbey/Desktop/Data_Studio/fancy-charts/parliament/FINANCE%20COM-%20REPORT%20OF%20THE%20FINANCE%20COMMITTEE%20ON%20REQUEST%20FOR%20WAIVER%20OF%20TAXES%20%20FOR%20THE%20AMOUNT%20OF%20US%24%204%2c901%2c386%2c09%20ON%20DIRECT%20PROJECT%20EXPENDITURE%20-%20IMPLEMENTATION%20OF%20GHANA%20DEDICATED%20SECURITY%20INFORMATION%20SYSTEM%20PROJECT%20PHASE%2011\n",
      "ERROR DOWNLOADING <a href=\"/handle/123456789/98\">REPORT OF THE FINANCE COMMITTEE ON REQUEST FOR <span class=\"highlight\">WAIVER</span> OF <span class=\"highlight\">TAXES</span>  ON THE ONSHORE COMPONENT INVOLVING <span class=\"highlight\">TAX</span>,NATIONAL INSURANCE LEVY AND WITHHOLDING <span class=\"highlight\">TAX</span> FOR THE AMOUNTING TO FOUR MILLION, NINE HUNDRED AND ONE THOUSAND , THREE HUNDRED AND EIGHTY SIX UNITED STATES DOLLARSO AND NINE CENTSF US$ 4,901,386,09 ON DIRECT PROJECT EXPENDITURE IN RESPECT OF THE IMPLEMENTATION   OF GHANA DEDICATED SECURITY INFORMATION SYSTEM PROJECT PHASE 11</a>\n",
      "Downloading http://ir.parliament.gh//bitstream/handle/123456789/1197/330607133404_0001.pdf?sequence=1&isAllowed=y saving to /Users/richardabbey/Desktop/Data_Studio/fancy-charts/parliament/330607133404_0001.pdf\n",
      "Downloading http://ir.parliament.gh//bitstream/handle/123456789/1030/330223065612_0001.pdf?sequence=1&isAllowed=y saving to /Users/richardabbey/Desktop/Data_Studio/fancy-charts/parliament/330223065612_0001.pdf\n",
      "Downloading http://ir.parliament.gh//bitstream/handle/123456789/974/321121063442_0001.pdf?sequence=1&isAllowed=y saving to /Users/richardabbey/Desktop/Data_Studio/fancy-charts/parliament/321121063442_0001.pdf\n",
      "ERROR DOWNLOADING <a href=\"/handle/123456789/1493\">Joint memorandum to Parliament on the financing and commercial agreement for the supply and erection of electrical materials and equipment of 582 communities in the Ashanti, Brong Ahafo , Easter , Volta and Western Regions (Phase 2) and the <span class=\"highlight\">waiver</span> of <span class=\"highlight\">taxes</span> and duties</a>\n",
      "Downloading http://ir.parliament.gh//bitstream/handle/123456789/1563/2020_01_16_13_35_14.pdf?sequence=1&isAllowed=y saving to /Users/richardabbey/Desktop/Data_Studio/fancy-charts/parliament/2020_01_16_13_35_14.pdf\n",
      "Downloading http://ir.parliament.gh//bitstream/handle/123456789/1584/2020_01_21_13_47_57.pdf?sequence=1&isAllowed=y saving to /Users/richardabbey/Desktop/Data_Studio/fancy-charts/parliament/2020_01_21_13_47_57.pdf\n",
      "Downloading http://ir.parliament.gh//bitstream/handle/123456789/1585/2020_01_21_13_22_39.pdf?sequence=1&isAllowed=y saving to /Users/richardabbey/Desktop/Data_Studio/fancy-charts/parliament/2020_01_21_13_22_39.pdf\n",
      "Downloading http://ir.parliament.gh//bitstream/handle/123456789/1597/2020_02_14_10_49_42.pdf?sequence=1&isAllowed=y saving to /Users/richardabbey/Desktop/Data_Studio/fancy-charts/parliament/2020_02_14_10_49_42.pdf\n",
      "Downloading http://ir.parliament.gh//bitstream/handle/123456789/1657/2020_05_20_13_11_42.pdf?sequence=1&isAllowed=y saving to /Users/richardabbey/Desktop/Data_Studio/fancy-charts/parliament/2020_05_20_13_11_42.pdf\n",
      "Downloading http://ir.parliament.gh//bitstream/handle/123456789/1647/2020_03_20_09_46_16.pdf?sequence=1&isAllowed=y saving to /Users/richardabbey/Desktop/Data_Studio/fancy-charts/parliament/2020_03_20_09_46_16.pdf\n",
      "Downloading http://ir.parliament.gh//bitstream/handle/123456789/392/doc05260920160715100938.pdf?sequence=1&isAllowed=y saving to /Users/richardabbey/Desktop/Data_Studio/fancy-charts/parliament/doc05260920160715100938.pdf\n",
      "Downloading http://ir.parliament.gh//bitstream/handle/123456789/2094/Establishment%20of%20technical%20and%20Vocational%20centres....pdf?sequence=1&isAllowed=y saving to /Users/richardabbey/Desktop/Data_Studio/fancy-charts/parliament/Establishment%20of%20technical%20and%20Vocational%20centres....pdf\n",
      "Downloading http://ir.parliament.gh//bitstream/handle/123456789/513/doc04383820160513130136.pdf?sequence=1&isAllowed=y saving to /Users/richardabbey/Desktop/Data_Studio/fancy-charts/parliament/doc04383820160513130136.pdf\n",
      "Downloading http://ir.parliament.gh//bitstream/handle/123456789/1328/2019_07_17_12_52_36.pdf?sequence=1&isAllowed=y saving to /Users/richardabbey/Desktop/Data_Studio/fancy-charts/parliament/2019_07_17_12_52_36.pdf\n"
     ]
    },
    {
     "name": "stdout",
     "output_type": "stream",
     "text": [
      "Downloading http://ir.parliament.gh//bitstream/handle/123456789/2157/one%20district%20one%20factory.pdf?sequence=1&isAllowed=y saving to /Users/richardabbey/Desktop/Data_Studio/fancy-charts/parliament/one%20district%20one%20factory.pdf\n",
      "Downloading http://ir.parliament.gh//bitstream/handle/123456789/88/doc02102520150611075555.pdf?sequence=1&isAllowed=y saving to /Users/richardabbey/Desktop/Data_Studio/fancy-charts/parliament/doc02102520150611075555.pdf\n",
      "Downloading http://ir.parliament.gh//bitstream/handle/123456789/1641/2020_03_18_09_16_33.pdf?sequence=1&isAllowed=y saving to /Users/richardabbey/Desktop/Data_Studio/fancy-charts/parliament/2020_03_18_09_16_33.pdf\n",
      "Downloading http://ir.parliament.gh//bitstream/handle/123456789/1640/2020_03_18_09_16_33.pdf?sequence=1&isAllowed=y saving to /Users/richardabbey/Desktop/Data_Studio/fancy-charts/parliament/2020_03_18_09_16_33.pdf\n",
      "Downloading http://ir.parliament.gh//bitstream/handle/123456789/949/321102075441_0001.pdf?sequence=1&isAllowed=y saving to /Users/richardabbey/Desktop/Data_Studio/fancy-charts/parliament/321102075441_0001.pdf\n",
      "Downloading http://ir.parliament.gh//bitstream/handle/123456789/331/doc02122520150612124946.pdf?sequence=1&isAllowed=y saving to /Users/richardabbey/Desktop/Data_Studio/fancy-charts/parliament/doc02122520150612124946.pdf\n",
      "Downloading http://ir.parliament.gh//bitstream/handle/123456789/899/321016092129_0001.pdf?sequence=1&isAllowed=y saving to /Users/richardabbey/Desktop/Data_Studio/fancy-charts/parliament/321016092129_0001.pdf\n",
      "Downloading http://ir.parliament.gh//bitstream/handle/123456789/393/doc05261020160715101002.pdf?sequence=1&isAllowed=y saving to /Users/richardabbey/Desktop/Data_Studio/fancy-charts/parliament/doc05261020160715101002.pdf\n",
      "Downloading http://ir.parliament.gh//bitstream/handle/123456789/97/FINANCE%20COM-%20REPORT%20FINANCE%20COMMITTEE%20ON%20THE%20REQUEST%20FOR%20WAIVER%20AMOUNTING%20%20TO%20GHC%203%2c793%2c352.05%20ON%20GOODS%20-%20THE%20FARICAN%20DEVELOPMENT%20BANK%20FUNDED%20UA%2053.59M%20AWOSHIE%20POKUASE%20ROAD%20CONSTRUCTION%20%26%20COMMUNITY%20DEVELOPMENT%20PROJECT%20.%20MARCH%202014?sequence=1&isAllowed=y saving to /Users/richardabbey/Desktop/Data_Studio/fancy-charts/parliament/FINANCE%20COM-%20REPORT%20FINANCE%20COMMITTEE%20ON%20THE%20REQUEST%20FOR%20WAIVER%20AMOUNTING%20%20TO%20GHC%203%2c793%2c352.05%20ON%20GOODS%20-%20THE%20FARICAN%20DEVELOPMENT%20BANK%20FUNDED%20UA%2053.59M%20AWOSHIE%20POKUASE%20ROAD%20CONSTRUCTION%20%26%20COMMUNITY%20DEVELOPMENT%20PROJECT%20.%20MARCH%202014\n",
      "ERROR DOWNLOADING <a href=\"/handle/123456789/97\">REPORT FINANCE COMMITTEE ON THE REQUEST FOR <span class=\"highlight\">WAIVER</span>  OF <span class=\"highlight\">TAXES</span> ,CUSTOM DUTIES , VALVUE ADDED <span class=\"highlight\">TAX</span>,NATIONAL HEALTH INSURANCE LEVY , DESTINATION INSPECTION LEVY , EXPORT DEVELOPMENT AND INVESTMENT FUND AND ECOWAS LEVY AMOUNTING  TO GHC 3,793,352.05 ON GOODS AND EQUIPMENT  REQUIRED  FOR THE IMPLEMETATION OFTHE AFRICAN DEVELOPMENT BANK FUNDED UA 53.59M AWOSHIE POKUASE ROAD CONSTRUCTION AND  COMMUNITY DEVELOPMENT PROJECT .</a>\n",
      "Downloading http://ir.parliament.gh//bitstream/handle/123456789/2096/Waiver%20for%20Korban%20Company%20Limited%20Under%20the%201D1F%20Programme.pdf?sequence=1&isAllowed=y saving to /Users/richardabbey/Desktop/Data_Studio/fancy-charts/parliament/Waiver%20for%20Korban%20Company%20Limited%20Under%20the%201D1F%20Programme.pdf\n",
      "Downloading http://ir.parliament.gh//bitstream/handle/123456789/1009/LOANS%2cTREATIES%20AND%20CONVECTIONS%2c%206TH%20PARL..pdf?sequence=1&isAllowed=y saving to /Users/richardabbey/Desktop/Data_Studio/fancy-charts/parliament/LOANS%2cTREATIES%20AND%20CONVECTIONS%2c%206TH%20PARL..pdf\n",
      "Downloading http://ir.parliament.gh//bitstream/handle/123456789/976/321121063936_0001.pdf?sequence=1&isAllowed=y saving to /Users/richardabbey/Desktop/Data_Studio/fancy-charts/parliament/321121063936_0001.pdf\n",
      "Downloading http://ir.parliament.gh//bitstream/handle/123456789/1048/330317063029_0001.pdf?sequence=1&isAllowed=y saving to /Users/richardabbey/Desktop/Data_Studio/fancy-charts/parliament/330317063029_0001.pdf\n",
      "Downloading http://ir.parliament.gh//bitstream/handle/123456789/472/doc06308420161024125549.pdf?sequence=1&isAllowed=y saving to /Users/richardabbey/Desktop/Data_Studio/fancy-charts/parliament/doc06308420161024125549.pdf\n",
      "Downloading http://ir.parliament.gh//bitstream/handle/123456789/1198/330607132733_0001.pdf?sequence=1&isAllowed=y saving to /Users/richardabbey/Desktop/Data_Studio/fancy-charts/parliament/330607132733_0001.pdf\n",
      "Downloading http://ir.parliament.gh//bitstream/handle/123456789/979/321122113523_0001.pdf?sequence=1&isAllowed=y saving to /Users/richardabbey/Desktop/Data_Studio/fancy-charts/parliament/321122113523_0001.pdf\n",
      "Downloading http://ir.parliament.gh//bitstream/handle/123456789/1003/321124075054_0001.pdf?sequence=1&isAllowed=y saving to /Users/richardabbey/Desktop/Data_Studio/fancy-charts/parliament/321124075054_0001.pdf\n",
      "Downloading http://ir.parliament.gh//bitstream/handle/123456789/1303/MEMORANDUM%20TO%20PARLIAMENT%20BY%20THE%20MINISTER%20FOR%20FINANCE%20ON%20THE%20REQUEST%20FOR%20TAX%20AND%20DUTY%20WAIVER%20IN%20RELATION%20TO%20THE%20CONTRACT%20AGREEMENT%20BETWEEN%20GOG.%20AND%20THE%20EXIM%20BANK%20..pdf?sequence=1&isAllowed=y saving to /Users/richardabbey/Desktop/Data_Studio/fancy-charts/parliament/MEMORANDUM%20TO%20PARLIAMENT%20BY%20THE%20MINISTER%20FOR%20FINANCE%20ON%20THE%20REQUEST%20FOR%20TAX%20AND%20DUTY%20WAIVER%20IN%20RELATION%20TO%20THE%20CONTRACT%20AGREEMENT%20BETWEEN%20GOG.%20AND%20THE%20EXIM%20BANK%20..pdf\n",
      "Downloading http://ir.parliament.gh//bitstream/handle/123456789/1345/2019_07_12_15_40_32.pdf?sequence=1&isAllowed=y saving to /Users/richardabbey/Desktop/Data_Studio/fancy-charts/parliament/2019_07_12_15_40_32.pdf\n",
      "Downloading http://ir.parliament.gh//bitstream/handle/123456789/1422/REPORT%20OF%20THE%20FINANCE%20COMMITTEE%20ON%20THE%20REQUEST%20FOR%20WAIVER%20OF%20TAX%20LIABILITY%20AMOUNTING%20TO%20THE%20GHANA%20CEDI%20EQUIVALENT%20OF%20US%2424%2c594%2c473.40%20FOR%20THE%20PURCHASE%20OF%20EQUIPMENT%2cMATERIALS..pdf?sequence=1&isAllowed=y saving to /Users/richardabbey/Desktop/Data_Studio/fancy-charts/parliament/REPORT%20OF%20THE%20FINANCE%20COMMITTEE%20ON%20THE%20REQUEST%20FOR%20WAIVER%20OF%20TAX%20LIABILITY%20AMOUNTING%20TO%20THE%20GHANA%20CEDI%20EQUIVALENT%20OF%20US%2424%2c594%2c473.40%20FOR%20THE%20PURCHASE%20OF%20EQUIPMENT%2cMATERIALS..pdf\n",
      "Downloading http://ir.parliament.gh//bitstream/handle/123456789/1436/BEKWAI.pdf?sequence=1&isAllowed=y saving to /Users/richardabbey/Desktop/Data_Studio/fancy-charts/parliament/BEKWAI.pdf\n",
      "Downloading http://ir.parliament.gh//bitstream/handle/123456789/1491/mou.pdf?sequence=1&isAllowed=y saving to /Users/richardabbey/Desktop/Data_Studio/fancy-charts/parliament/mou.pdf\n",
      "Downloading http://ir.parliament.gh//bitstream/handle/123456789/1494/2019_12_17_14_18_17.pdf?sequence=1&isAllowed=y saving to /Users/richardabbey/Desktop/Data_Studio/fancy-charts/parliament/2019_12_17_14_18_17.pdf\n",
      "Downloading http://ir.parliament.gh//bitstream/handle/123456789/1586/2020_01_21_12_52_19.pdf?sequence=1&isAllowed=y saving to /Users/richardabbey/Desktop/Data_Studio/fancy-charts/parliament/2020_01_21_12_52_19.pdf\n",
      "Downloading http://ir.parliament.gh//bitstream/handle/123456789/1583/2020_01_22_10_14_15.pdf?sequence=1&isAllowed=y saving to /Users/richardabbey/Desktop/Data_Studio/fancy-charts/parliament/2020_01_22_10_14_15.pdf\n",
      "Downloading http://ir.parliament.gh//bitstream/handle/123456789/1607/2020_01_22_10_14_15.pdf?sequence=1&isAllowed=y saving to /Users/richardabbey/Desktop/Data_Studio/fancy-charts/parliament/2020_01_22_10_14_15.pdf\n",
      "Downloading http://ir.parliament.gh//bitstream/handle/123456789/1654/2020_05_20_12_41_59.pdf?sequence=1&isAllowed=y saving to /Users/richardabbey/Desktop/Data_Studio/fancy-charts/parliament/2020_05_20_12_41_59.pdf\n",
      "Downloading http://ir.parliament.gh//bitstream/handle/123456789/1666/2020_05_22_13_17_47.pdf?sequence=1&isAllowed=y saving to /Users/richardabbey/Desktop/Data_Studio/fancy-charts/parliament/2020_05_22_13_17_47.pdf\n",
      "Downloading http://ir.parliament.gh//bitstream/handle/123456789/2011/THE%20REQUEST%20OF%20WAIVER%20OF%20INCOMEE%20TAXES.pdf?sequence=1&isAllowed=y saving to /Users/richardabbey/Desktop/Data_Studio/fancy-charts/parliament/THE%20REQUEST%20OF%20WAIVER%20OF%20INCOMEE%20TAXES.pdf\n"
     ]
    },
    {
     "name": "stdout",
     "output_type": "stream",
     "text": [
      "Downloading http://ir.parliament.gh//bitstream/handle/123456789/451/doc04335420160506173403.pdf?sequence=1&isAllowed=y saving to /Users/richardabbey/Desktop/Data_Studio/fancy-charts/parliament/doc04335420160506173403.pdf\n",
      "Downloading http://ir.parliament.gh//bitstream/handle/123456789/95/FINACE%20COM-%20%20REPORT%20OF%20THE%20FINANCE%20COM%20ON%20THE%20REQUEST%20AMOUNTING%20TO%20US%24%2023%2c897%2c276.00%20-%20OIL%20%26%20GAS%20ENCLAVE%20PROJECT%20-%20IMPLEMENTED%20BY%20HUAWEI%20TECHNOLOGIES%20UNDER%20MASTER%20FACILITY%20AGREEMENT%20BETWEEN%20GOG%20%26%20THE%20CHINA%20DEVELOPMENT%20BANK%20CORPORATION?sequence=1&isAllowed=y saving to /Users/richardabbey/Desktop/Data_Studio/fancy-charts/parliament/FINACE%20COM-%20%20REPORT%20OF%20THE%20FINANCE%20COM%20ON%20THE%20REQUEST%20AMOUNTING%20TO%20US%24%2023%2c897%2c276.00%20-%20OIL%20%26%20GAS%20ENCLAVE%20PROJECT%20-%20IMPLEMENTED%20BY%20HUAWEI%20TECHNOLOGIES%20UNDER%20MASTER%20FACILITY%20AGREEMENT%20BETWEEN%20GOG%20%26%20THE%20CHINA%20DEVELOPMENT%20BANK%20CORPORATION\n",
      "ERROR DOWNLOADING <a href=\"/handle/123456789/95\">REPORT OF THE FINANCE COMMITTEE ON THE REQUEST OF <span class=\"highlight\">WAIVER</span>  ON VAT, ECOWAS LEVY,PROCESSING AND INSPECTION FEE, WITHHOLDING <span class=\"highlight\">TAX</span> AND OTHER <span class=\"highlight\">TAXES</span> AMOUNTING TO THE CEDI EQUIVALENT OF  TWENTY THREE MILLION , EIGHT HUNDRED  AND NINETY SEVEN  THOUSAND, TWO HUNDREDU AND SEVENTY SIX  OF UNITED STATES DOLLARS ($ 23,897,276.00 ) ON MATERIALS AND EQUIPMENT TO BE IMPORTED OR PURCHASES LOCALLY  IN RESPECT OF THE MONITORING FACILITITIES FOR THE OIL AND  GAS ENCLAVE PROJECT (TO BE  IMPLEMENTED BY HUAWEI TECHNOLOGIES  COMPANY LIMITED)UNDER MASTER FACILITY AGREEMENT BETWEEN GOVERNMENT OF GHANA AND THE CHINA DEVELOPMENT BANK CORPORATION</a>\n",
      "Downloading http://ir.parliament.gh//bitstream/handle/123456789/1976/REQUEST%20FOR%20WAIVER%20ON%20IMPORT%20DUTY%20ON%20MACHINERY%20FOR%20KASAPREKO.pdf?sequence=1&isAllowed=y saving to /Users/richardabbey/Desktop/Data_Studio/fancy-charts/parliament/REQUEST%20FOR%20WAIVER%20ON%20IMPORT%20DUTY%20ON%20MACHINERY%20FOR%20KASAPREKO.pdf\n",
      "Downloading http://ir.parliament.gh//bitstream/handle/123456789/509/doc06349820161027103224.pdf?sequence=1&isAllowed=y saving to /Users/richardabbey/Desktop/Data_Studio/fancy-charts/parliament/doc06349820161027103224.pdf\n",
      "Downloading http://ir.parliament.gh//bitstream/handle/123456789/391/doc04945020160628105625.pdf?sequence=1&isAllowed=y saving to /Users/richardabbey/Desktop/Data_Studio/fancy-charts/parliament/doc04945020160628105625.pdf\n",
      "Downloading http://ir.parliament.gh//bitstream/handle/123456789/1470/2019_12_03_14_52_55.pdf?sequence=1&isAllowed=y saving to /Users/richardabbey/Desktop/Data_Studio/fancy-charts/parliament/2019_12_03_14_52_55.pdf\n",
      "Downloading http://ir.parliament.gh//bitstream/handle/123456789/1534/2019_12_30_10_12_02.pdf?sequence=1&isAllowed=y saving to /Users/richardabbey/Desktop/Data_Studio/fancy-charts/parliament/2019_12_30_10_12_02.pdf\n",
      "Downloading http://ir.parliament.gh//bitstream/handle/123456789/92/doc02102920150611075730.pdf?sequence=1&isAllowed=y saving to /Users/richardabbey/Desktop/Data_Studio/fancy-charts/parliament/doc02102920150611075730.pdf\n",
      "Downloading http://ir.parliament.gh//bitstream/handle/123456789/93/doc02103020150611075748.pdf?sequence=1&isAllowed=y saving to /Users/richardabbey/Desktop/Data_Studio/fancy-charts/parliament/doc02103020150611075748.pdf\n",
      "Downloading http://ir.parliament.gh//bitstream/handle/123456789/94/doc02103120150611075808.pdf?sequence=1&isAllowed=y saving to /Users/richardabbey/Desktop/Data_Studio/fancy-charts/parliament/doc02103120150611075808.pdf\n",
      "Downloading http://ir.parliament.gh//bitstream/handle/123456789/133/doc02649720151026125503.pdf?sequence=1&isAllowed=y saving to /Users/richardabbey/Desktop/Data_Studio/fancy-charts/parliament/doc02649720151026125503.pdf\n",
      "Downloading http://ir.parliament.gh//bitstream/handle/123456789/308/INCOME%20TAX%20BILL%2c%202015.pdf?sequence=1&isAllowed=y saving to /Users/richardabbey/Desktop/Data_Studio/fancy-charts/parliament/INCOME%20TAX%20BILL%2c%202015.pdf\n",
      "Downloading http://ir.parliament.gh//bitstream/handle/123456789/850/doc00741120180130055710.pdf?sequence=1&isAllowed=y saving to /Users/richardabbey/Desktop/Data_Studio/fancy-charts/parliament/doc00741120180130055710.pdf\n",
      "Downloading http://ir.parliament.gh//bitstream/handle/123456789/721/Special%20%20Petroleum%20Taxes%20%28Amdment%29%20%20Bill%2c%202017.pdf?sequence=1&isAllowed=y saving to /Users/richardabbey/Desktop/Data_Studio/fancy-charts/parliament/Special%20%20Petroleum%20Taxes%20%28Amdment%29%20%20Bill%2c%202017.pdf\n",
      "Downloading http://ir.parliament.gh//bitstream/handle/123456789/722/Value%20Added%20Tax%20%28Amendment%29%20Bill%2c%202017.pdf?sequence=1&isAllowed=y saving to /Users/richardabbey/Desktop/Data_Studio/fancy-charts/parliament/Value%20Added%20Tax%20%28Amendment%29%20Bill%2c%202017.pdf\n",
      "Downloading http://ir.parliament.gh//bitstream/handle/123456789/719/Income%20Tax%20%20%28Amendment%29%20Bill%2c%202017.pdf?sequence=1&isAllowed=y saving to /Users/richardabbey/Desktop/Data_Studio/fancy-charts/parliament/Income%20Tax%20%20%28Amendment%29%20Bill%2c%202017.pdf\n",
      "Downloading http://ir.parliament.gh//bitstream/handle/123456789/553/Excise%20Tax%20Stamp.pdf?sequence=1&isAllowed=y saving to /Users/richardabbey/Desktop/Data_Studio/fancy-charts/parliament/Excise%20Tax%20Stamp.pdf\n",
      "Downloading http://ir.parliament.gh//bitstream/handle/123456789/1781/COMMUNICATIONS%20SERVICE%20TAX%20ACT%2c%202008%20%28ACT%20754%29.pdf?sequence=1&isAllowed=y saving to /Users/richardabbey/Desktop/Data_Studio/fancy-charts/parliament/COMMUNICATIONS%20SERVICE%20TAX%20ACT%2c%202008%20%28ACT%20754%29.pdf\n",
      "Downloading http://ir.parliament.gh//bitstream/handle/123456789/1538/2019_12_23_13_43_18.pdf?sequence=1&isAllowed=y saving to /Users/richardabbey/Desktop/Data_Studio/fancy-charts/parliament/2019_12_23_13_43_18.pdf\n",
      "Downloading http://ir.parliament.gh//bitstream/handle/123456789/1756/AIRPORT%20TAX%20ACT%2c%201963%20%28ACT%20209%29.pdf?sequence=1&isAllowed=y saving to /Users/richardabbey/Desktop/Data_Studio/fancy-charts/parliament/AIRPORT%20TAX%20ACT%2c%201963%20%28ACT%20209%29.pdf\n",
      "Downloading http://ir.parliament.gh//bitstream/handle/123456789/1151/330529071141_0001.pdf?sequence=1&isAllowed=y saving to /Users/richardabbey/Desktop/Data_Studio/fancy-charts/parliament/330529071141_0001.pdf\n",
      "Downloading http://ir.parliament.gh//bitstream/handle/123456789/955/321016084500_0001.pdf?sequence=1&isAllowed=y saving to /Users/richardabbey/Desktop/Data_Studio/fancy-charts/parliament/321016084500_0001.pdf\n",
      "Downloading http://ir.parliament.gh//bitstream/handle/123456789/843/doc00740020180130055038.pdf?sequence=1&isAllowed=y saving to /Users/richardabbey/Desktop/Data_Studio/fancy-charts/parliament/doc00740020180130055038.pdf\n",
      "Downloading http://ir.parliament.gh//bitstream/handle/123456789/558/Value%20Added%20Tax%20%28Amendment%29%20Bill%2c2013.pdf?sequence=1&isAllowed=y saving to /Users/richardabbey/Desktop/Data_Studio/fancy-charts/parliament/Value%20Added%20Tax%20%28Amendment%29%20Bill%2c2013.pdf\n",
      "Downloading http://ir.parliament.gh//bitstream/handle/123456789/324/VALUE%20ADDED%20TAX%20%28AMENDMENT%29%20BILL%2c%202015.pdf?sequence=1&isAllowed=y saving to /Users/richardabbey/Desktop/Data_Studio/fancy-charts/parliament/VALUE%20ADDED%20TAX%20%28AMENDMENT%29%20BILL%2c%202015.pdf\n",
      "Downloading http://ir.parliament.gh//bitstream/handle/123456789/699/doc00288420170620054731.pdf?sequence=1&isAllowed=y saving to /Users/richardabbey/Desktop/Data_Studio/fancy-charts/parliament/doc00288420170620054731.pdf\n",
      "Downloading http://ir.parliament.gh//bitstream/handle/123456789/1780/COMMUNICATIONS%20SERVICE%20TAX%20%28AMENDMENT%29%20ACT%2c%202020%20%28ACT%201025%29.pdf?sequence=1&isAllowed=y saving to /Users/richardabbey/Desktop/Data_Studio/fancy-charts/parliament/COMMUNICATIONS%20SERVICE%20TAX%20%28AMENDMENT%29%20ACT%2c%202020%20%28ACT%201025%29.pdf\n",
      "Downloading http://ir.parliament.gh//bitstream/handle/123456789/1865/INCOME%20TAX%20%28AMENDMENT%29%20ACT%2c%202015%20%28ACT%20902%29.pdf?sequence=1&isAllowed=y saving to /Users/richardabbey/Desktop/Data_Studio/fancy-charts/parliament/INCOME%20TAX%20%28AMENDMENT%29%20ACT%2c%202015%20%28ACT%20902%29.pdf\n"
     ]
    },
    {
     "name": "stdout",
     "output_type": "stream",
     "text": [
      "Downloading http://ir.parliament.gh//bitstream/handle/123456789/2099/TAX%20AMNESTY%20ACT%2c%202017%20%28ACT%20955%29.pdf?sequence=1&isAllowed=y saving to /Users/richardabbey/Desktop/Data_Studio/fancy-charts/parliament/TAX%20AMNESTY%20ACT%2c%202017%20%28ACT%20955%29.pdf\n",
      "Downloading http://ir.parliament.gh//bitstream/handle/123456789/2112/VALUE%20ADDED%20TAX%20%28AMENDMENT%29%20%28NO.%202%29%20ACT%2c%202017%20%28ACT%20954%29.pdf?sequence=1&isAllowed=y saving to /Users/richardabbey/Desktop/Data_Studio/fancy-charts/parliament/VALUE%20ADDED%20TAX%20%28AMENDMENT%29%20%28NO.%202%29%20ACT%2c%202017%20%28ACT%20954%29.pdf\n",
      "Downloading http://ir.parliament.gh//bitstream/handle/123456789/1413/REPORT%20OF%20THE%20FINANCE%20COMMITTEE%20ON%20THE%20COMMUNICATION%20SERVICE%20TAX%20%28AMENDMENT%29%20BILL%2c2019..pdf?sequence=1&isAllowed=y saving to /Users/richardabbey/Desktop/Data_Studio/fancy-charts/parliament/REPORT%20OF%20THE%20FINANCE%20COMMITTEE%20ON%20THE%20COMMUNICATION%20SERVICE%20TAX%20%28AMENDMENT%29%20BILL%2c2019..pdf\n",
      "Downloading http://ir.parliament.gh//bitstream/handle/123456789/1549/2020_01_16_11_10_39.pdf?sequence=1&isAllowed=y saving to /Users/richardabbey/Desktop/Data_Studio/fancy-charts/parliament/2020_01_16_11_10_39.pdf\n",
      "Downloading http://ir.parliament.gh//bitstream/handle/123456789/1866/INCOME%20TAX%20%28AMENDMENT%29%20ACT%2c%202016%20%28ACT%20907%29.pdf?sequence=1&isAllowed=y saving to /Users/richardabbey/Desktop/Data_Studio/fancy-charts/parliament/INCOME%20TAX%20%28AMENDMENT%29%20ACT%2c%202016%20%28ACT%20907%29.pdf\n",
      "Downloading http://ir.parliament.gh//bitstream/handle/123456789/1954/Income%20Tax%20%28Amendment%29%20Bill%2c2020.pdf?sequence=1&isAllowed=y saving to /Users/richardabbey/Desktop/Data_Studio/fancy-charts/parliament/Income%20Tax%20%28Amendment%29%20Bill%2c2020.pdf\n",
      "Downloading http://ir.parliament.gh//bitstream/handle/123456789/2135/VALUE%20ADDED%20TAX%20%28AMENDMENT%29%20ACT%2c%202019%20%28ACT%201005%29.pdf?sequence=1&isAllowed=y saving to /Users/richardabbey/Desktop/Data_Studio/fancy-charts/parliament/VALUE%20ADDED%20TAX%20%28AMENDMENT%29%20ACT%2c%202019%20%28ACT%201005%29.pdf\n",
      "Downloading http://ir.parliament.gh//bitstream/handle/123456789/2139/VALUE%20ADDED%20TAX%20%28AMENDMENT%29%20ACT%2c%202017%20%28ACT%20948%29.pdf?sequence=1&isAllowed=y saving to /Users/richardabbey/Desktop/Data_Studio/fancy-charts/parliament/VALUE%20ADDED%20TAX%20%28AMENDMENT%29%20ACT%2c%202017%20%28ACT%20948%29.pdf\n",
      "Downloading http://ir.parliament.gh//bitstream/handle/123456789/2136/VALUE%20ADDED%20TAX%20%28AMENDMENT%29%20ACT%2c%202018%20%28ACT%20970%29.pdf?sequence=1&isAllowed=y saving to /Users/richardabbey/Desktop/Data_Studio/fancy-charts/parliament/VALUE%20ADDED%20TAX%20%28AMENDMENT%29%20ACT%2c%202018%20%28ACT%20970%29.pdf\n",
      "Downloading http://ir.parliament.gh//bitstream/handle/123456789/1536/2019_12_30_10_00_28.pdf?sequence=1&isAllowed=y saving to /Users/richardabbey/Desktop/Data_Studio/fancy-charts/parliament/2019_12_30_10_00_28.pdf\n",
      "Downloading http://ir.parliament.gh//bitstream/handle/123456789/1016/330223115823_0001.pdf?sequence=1&isAllowed=y saving to /Users/richardabbey/Desktop/Data_Studio/fancy-charts/parliament/330223115823_0001.pdf\n",
      "Downloading http://ir.parliament.gh//bitstream/handle/123456789/842/doc00739920180130055023.pdf?sequence=1&isAllowed=y saving to /Users/richardabbey/Desktop/Data_Studio/fancy-charts/parliament/doc00739920180130055023.pdf\n",
      "Downloading http://ir.parliament.gh//bitstream/handle/123456789/131/doc02649320151026125337.pdf?sequence=1&isAllowed=y saving to /Users/richardabbey/Desktop/Data_Studio/fancy-charts/parliament/doc02649320151026125337.pdf\n",
      "Downloading http://ir.parliament.gh//bitstream/handle/123456789/101/FINANCE%20COM%20-%20REPORT%20ON%20THE%20CONTRACT%20AGREEMENT%20BETWEEN%20THE%20GOVERNMENT%20OF%20REPUBLIC%20OF%20GHANA%20AND%20AUTHENTIX%20%2c%20USA%20FOR%20THE%20PROCUREMENT%20OF%20TAX%20STAMP%20SYSTEM?sequence=1&isAllowed=y saving to /Users/richardabbey/Desktop/Data_Studio/fancy-charts/parliament/FINANCE%20COM%20-%20REPORT%20ON%20THE%20CONTRACT%20AGREEMENT%20BETWEEN%20THE%20GOVERNMENT%20OF%20REPUBLIC%20OF%20GHANA%20AND%20AUTHENTIX%20%2c%20USA%20FOR%20THE%20PROCUREMENT%20OF%20TAX%20STAMP%20SYSTEM\n",
      "Downloading http://ir.parliament.gh//bitstream/handle/123456789/1975/REQUEST%20FOR%20WAIVEER%20OF%20IMPORT%20DUTY...-rotated.pdf?sequence=1&isAllowed=y saving to /Users/richardabbey/Desktop/Data_Studio/fancy-charts/parliament/REQUEST%20FOR%20WAIVEER%20OF%20IMPORT%20DUTY...-rotated.pdf\n",
      "Downloading http://ir.parliament.gh//bitstream/handle/123456789/1821/EXCISE%20TAX%20STAMP%20%28AMENDMENT%29%20ACT%2c%202018%20%28ACT%20981%29.pdf?sequence=1&isAllowed=y saving to /Users/richardabbey/Desktop/Data_Studio/fancy-charts/parliament/EXCISE%20TAX%20STAMP%20%28AMENDMENT%29%20ACT%2c%202018%20%28ACT%20981%29.pdf\n",
      "Downloading http://ir.parliament.gh//bitstream/handle/123456789/1779/COMMUNICATIONS%20SERVICE%20TAX%20%28AMENDMENT%29%20ACT%2c%202019%20%28ACT%20998%29.pdf?sequence=1&isAllowed=y saving to /Users/richardabbey/Desktop/Data_Studio/fancy-charts/parliament/COMMUNICATIONS%20SERVICE%20TAX%20%28AMENDMENT%29%20ACT%2c%202019%20%28ACT%20998%29.pdf\n",
      "Downloading http://ir.parliament.gh//bitstream/handle/123456789/1799/CUSTOMS%2c%20EXCISE%20%28DUTIES%20AND%20OTHER%20TAXES%29%20%28AMENDMENT%29%20ACT%2c%202008%20%28ACT%20751%29.pdf?sequence=1&isAllowed=y saving to /Users/richardabbey/Desktop/Data_Studio/fancy-charts/parliament/CUSTOMS%2c%20EXCISE%20%28DUTIES%20AND%20OTHER%20TAXES%29%20%28AMENDMENT%29%20ACT%2c%202008%20%28ACT%20751%29.pdf\n",
      "Downloading http://ir.parliament.gh//bitstream/handle/123456789/1798/CUSTOMS%20AND%20EXCISE%20%28PETROLEUM%20TAXES%20AND%20PETROLEUM%20RELATED%20LEVIES%29%20%28REPEAL%29%20ACT%2c%202017%20%28ACT%20943%29.pdf?sequence=1&isAllowed=y saving to /Users/richardabbey/Desktop/Data_Studio/fancy-charts/parliament/CUSTOMS%20AND%20EXCISE%20%28PETROLEUM%20TAXES%20AND%20PETROLEUM%20RELATED%20LEVIES%29%20%28REPEAL%29%20ACT%2c%202017%20%28ACT%20943%29.pdf\n",
      "Downloading http://ir.parliament.gh//bitstream/handle/123456789/1864/INCOME%20TAX%20%28AMENDMENT%29%20%28NO.2%29%20ACT%2c%202018%20%28ACT%20979%29.pdf?sequence=1&isAllowed=y saving to /Users/richardabbey/Desktop/Data_Studio/fancy-charts/parliament/INCOME%20TAX%20%28AMENDMENT%29%20%28NO.2%29%20ACT%2c%202018%20%28ACT%20979%29.pdf\n",
      "Downloading http://ir.parliament.gh//bitstream/handle/123456789/1867/INCOME%20TAX%20%28AMENDMENT%29%20ACT%2c%202017%20%28ACT%20941%29.pdf?sequence=1&isAllowed=y saving to /Users/richardabbey/Desktop/Data_Studio/fancy-charts/parliament/INCOME%20TAX%20%28AMENDMENT%29%20ACT%2c%202017%20%28ACT%20941%29.pdf\n",
      "Downloading http://ir.parliament.gh//bitstream/handle/123456789/1869/INCOME%20TAX%20%28AMENDMENT%29%20ACT%2c%202020%20%28ACT%201017%29.pdf?sequence=1&isAllowed=y saving to /Users/richardabbey/Desktop/Data_Studio/fancy-charts/parliament/INCOME%20TAX%20%28AMENDMENT%29%20ACT%2c%202020%20%28ACT%201017%29.pdf\n",
      "Downloading http://ir.parliament.gh//bitstream/handle/123456789/2113/VALUE%20ADDED%20TAX%20%28AMENDMENT%29%20%28NO.2%29%20ACT%2c%202018%20%28ACT%20980%29.pdf?sequence=1&isAllowed=y saving to /Users/richardabbey/Desktop/Data_Studio/fancy-charts/parliament/VALUE%20ADDED%20TAX%20%28AMENDMENT%29%20%28NO.2%29%20ACT%2c%202018%20%28ACT%20980%29.pdf\n",
      "Downloading http://ir.parliament.gh//bitstream/handle/123456789/1986/REQUEST%20FOR%20WAIVER%20OF%20IMPORT%20DUTIES-rotated.pdf?sequence=1&isAllowed=y saving to /Users/richardabbey/Desktop/Data_Studio/fancy-charts/parliament/REQUEST%20FOR%20WAIVER%20OF%20IMPORT%20DUTIES-rotated.pdf\n",
      "Downloading http://ir.parliament.gh//bitstream/handle/123456789/716/Customs%20And%20Excise%20%28Petroleum%20Taxes%20And%20Petroleum%20Related%20Levies%29.pdf?sequence=1&isAllowed=y saving to /Users/richardabbey/Desktop/Data_Studio/fancy-charts/parliament/Customs%20And%20Excise%20%28Petroleum%20Taxes%20And%20Petroleum%20Related%20Levies%29.pdf\n",
      "Downloading http://ir.parliament.gh//bitstream/handle/123456789/520/Customs%20and%20Excise%20%28duties%20and%20other%20Taxes%29%28amendment%29%28No.2%29%20Bill.pdf?sequence=1&isAllowed=y saving to /Users/richardabbey/Desktop/Data_Studio/fancy-charts/parliament/Customs%20and%20Excise%20%28duties%20and%20other%20Taxes%29%28amendment%29%28No.2%29%20Bill.pdf\n"
     ]
    },
    {
     "name": "stdout",
     "output_type": "stream",
     "text": [
      "Downloading http://ir.parliament.gh//bitstream/handle/123456789/519/Communications%20Service%20Tax%20%28Amendment%29%20Bill%2c2013.pdf?sequence=1&isAllowed=y saving to /Users/richardabbey/Desktop/Data_Studio/fancy-charts/parliament/Communications%20Service%20Tax%20%28Amendment%29%20Bill%2c2013.pdf\n",
      "Downloading http://ir.parliament.gh//bitstream/handle/123456789/1829/FINANCIAL%20SECTOR%20RECOVERY%20LEVY%20ACT%2c%202021%20%28ACT%201067%29.pdf?sequence=1&isAllowed=y saving to /Users/richardabbey/Desktop/Data_Studio/fancy-charts/parliament/FINANCIAL%20SECTOR%20RECOVERY%20LEVY%20ACT%2c%202021%20%28ACT%201067%29.pdf\n",
      "Downloading http://ir.parliament.gh//bitstream/handle/123456789/963/321113121134_0001.pdf?sequence=1&isAllowed=y saving to /Users/richardabbey/Desktop/Data_Studio/fancy-charts/parliament/321113121134_0001.pdf\n",
      "Downloading http://ir.parliament.gh//bitstream/handle/123456789/394/doc05261320160715101223.pdf?sequence=1&isAllowed=y saving to /Users/richardabbey/Desktop/Data_Studio/fancy-charts/parliament/doc05261320160715101223.pdf\n",
      "Downloading http://ir.parliament.gh//bitstream/handle/123456789/395/doc05261420160715101311.pdf?sequence=1&isAllowed=y saving to /Users/richardabbey/Desktop/Data_Studio/fancy-charts/parliament/doc05261420160715101311.pdf\n",
      "Downloading http://ir.parliament.gh//bitstream/handle/123456789/1868/INCOME%20TAX%20%28AMENDMENT%29%20ACT%2c%202018%20%28ACT%20973%29.pdf?sequence=1&isAllowed=y saving to /Users/richardabbey/Desktop/Data_Studio/fancy-charts/parliament/INCOME%20TAX%20%28AMENDMENT%29%20ACT%2c%202018%20%28ACT%20973%29.pdf\n",
      "Downloading http://ir.parliament.gh//bitstream/handle/123456789/1131/Tema%20Motorway%20waiver.docx?sequence=1&isAllowed=y saving to /Users/richardabbey/Desktop/Data_Studio/fancy-charts/parliament/Tema%20Motorway%20waiver.docx\n",
      "Downloading http://ir.parliament.gh//bitstream/handle/123456789/2076/STATUTE%20LAW%20REVISION%20ACT%2c%201996%20%28ACT%20516%29.pdf?sequence=1&isAllowed=y saving to /Users/richardabbey/Desktop/Data_Studio/fancy-charts/parliament/STATUTE%20LAW%20REVISION%20ACT%2c%201996%20%28ACT%20516%29.pdf\n",
      "Downloading http://ir.parliament.gh//bitstream/handle/123456789/958/321107131352_0001.pdf?sequence=1&isAllowed=y saving to /Users/richardabbey/Desktop/Data_Studio/fancy-charts/parliament/321107131352_0001.pdf\n",
      "Downloading http://ir.parliament.gh//bitstream/handle/123456789/401/doc05261420160715101311.pdf?sequence=1&isAllowed=y saving to /Users/richardabbey/Desktop/Data_Studio/fancy-charts/parliament/doc05261420160715101311.pdf\n",
      "Downloading http://ir.parliament.gh//bitstream/handle/123456789/1199/330607101032_0001.pdf?sequence=1&isAllowed=y saving to /Users/richardabbey/Desktop/Data_Studio/fancy-charts/parliament/330607101032_0001.pdf\n",
      "Downloading http://ir.parliament.gh//bitstream/handle/123456789/795/doc00570620171024202428.pdf?sequence=1&isAllowed=y saving to /Users/richardabbey/Desktop/Data_Studio/fancy-charts/parliament/doc00570620171024202428.pdf\n",
      "Downloading http://ir.parliament.gh//bitstream/handle/123456789/959/321107131458_0001.pdf?sequence=1&isAllowed=y saving to /Users/richardabbey/Desktop/Data_Studio/fancy-charts/parliament/321107131458_0001.pdf\n",
      "Downloading http://ir.parliament.gh//bitstream/handle/123456789/256/doc02100120150611074239.pdf?sequence=1&isAllowed=y saving to /Users/richardabbey/Desktop/Data_Studio/fancy-charts/parliament/doc02100120150611074239.pdf\n",
      "Downloading http://ir.parliament.gh//bitstream/handle/123456789/110/MEMO-%20MEMORANDUM%20TO%20PARLIAMENTARY%20ON%20APPROVAL%20OF%20THE%20TERMS%20AND%20WAIVER%20%20OF%20THE%20STAMP%20DUTY%20ON%20US%24%202%2c000%2c000%2c000%20RECEIVABLES%20BACKED%20TRADE%20FINANCE%20FACILITY%20FOR%20THE%20PURCHASE%20OF%20COCOA%20IN%20GHANA%20FOR%20THE%20UEAR%202014%20%2c%202015%20COCOA%20SEASON%20%20%202014.pdf?sequence=1&isAllowed=y saving to /Users/richardabbey/Desktop/Data_Studio/fancy-charts/parliament/MEMO-%20MEMORANDUM%20TO%20PARLIAMENTARY%20ON%20APPROVAL%20OF%20THE%20TERMS%20AND%20WAIVER%20%20OF%20THE%20STAMP%20DUTY%20ON%20US%24%202%2c000%2c000%2c000%20RECEIVABLES%20BACKED%20TRADE%20FINANCE%20FACILITY%20FOR%20THE%20PURCHASE%20OF%20COCOA%20IN%20GHANA%20FOR%20THE%20UEAR%202014%20%2c%202015%20COCOA%20SEASON%20%20%202014.pdf\n",
      "ERROR DOWNLOADING <a href=\"/handle/123456789/110\">MEMORANDUM TO PARLIAMENTARY FROM THE MINISTER OF FINANCE  ON APPROVAL OF THE TERMS AND <span class=\"highlight\">WAIVER</span>  OF THE STAMP DUTY ON US$ 2,000,000,000 RECEIVABLES BACKED TRADE FINANCE FACILITY FOR THE PURCHASE OF COCOA IN GHANA FOR THE  2014/ 2015 COCOA SEASON   BY GHANA  COCOA BOARD</a>\n",
      "Downloading http://ir.parliament.gh//bitstream/handle/123456789/900/321016091044_0001.pdf?sequence=1&isAllowed=y saving to /Users/richardabbey/Desktop/Data_Studio/fancy-charts/parliament/321016091044_0001.pdf\n",
      "Downloading http://ir.parliament.gh//bitstream/handle/123456789/905/321016094102_0001.pdf?sequence=1&isAllowed=y saving to /Users/richardabbey/Desktop/Data_Studio/fancy-charts/parliament/321016094102_0001.pdf\n",
      "Downloading http://ir.parliament.gh//bitstream/handle/123456789/1646/2020_03_20_09_31_33.pdf?sequence=1&isAllowed=y saving to /Users/richardabbey/Desktop/Data_Studio/fancy-charts/parliament/2020_03_20_09_31_33.pdf\n",
      "Downloading http://ir.parliament.gh//bitstream/handle/123456789/1660/2020_05_22_12_47_26.pdf?sequence=1&isAllowed=y saving to /Users/richardabbey/Desktop/Data_Studio/fancy-charts/parliament/2020_05_22_12_47_26.pdf\n",
      "Downloading http://ir.parliament.gh//bitstream/handle/123456789/957/321107131149_0001.pdf?sequence=1&isAllowed=y saving to /Users/richardabbey/Desktop/Data_Studio/fancy-charts/parliament/321107131149_0001.pdf\n",
      "Downloading http://ir.parliament.gh//bitstream/handle/123456789/1656/2020_05_20_12_54_20.pdf?sequence=1&isAllowed=y saving to /Users/richardabbey/Desktop/Data_Studio/fancy-charts/parliament/2020_05_20_12_54_20.pdf\n",
      "Downloading http://ir.parliament.gh//bitstream/handle/123456789/1863/INCOME%20TAX%20%28AMENDMENT%29%20%28NO.%202%29%20ACT%2c%202017%20%28ACT%20956%29.pdf?sequence=1&isAllowed=y saving to /Users/richardabbey/Desktop/Data_Studio/fancy-charts/parliament/INCOME%20TAX%20%28AMENDMENT%29%20%28NO.%202%29%20ACT%2c%202017%20%28ACT%20956%29.pdf\n",
      "Downloading http://ir.parliament.gh//bitstream/handle/123456789/1807/EARMARKED%20FUNDS%20CAPPING%20AND%20REALIGNMENT%20%28AMENDMENT%29%20ACT%2c%202019%20%28ACT%20994%29.pdf?sequence=1&isAllowed=y saving to /Users/richardabbey/Desktop/Data_Studio/fancy-charts/parliament/EARMARKED%20FUNDS%20CAPPING%20AND%20REALIGNMENT%20%28AMENDMENT%29%20ACT%2c%202019%20%28ACT%20994%29.pdf\n",
      "Downloading http://ir.parliament.gh//bitstream/handle/123456789/1844/GHANA%20EDUCATION%20TRUST%20FUND%20%28AMENDMENT%29%20ACT%2c%202018%20%28ACT%20972%29.pdf?sequence=1&isAllowed=y saving to /Users/richardabbey/Desktop/Data_Studio/fancy-charts/parliament/GHANA%20EDUCATION%20TRUST%20FUND%20%28AMENDMENT%29%20ACT%2c%202018%20%28ACT%20972%29.pdf\n",
      "Downloading http://ir.parliament.gh//bitstream/handle/123456789/2049/Auditor-%20General%20Reports%20on%20Ministries%2c%20Departments%20%26%20MDAs....pdf?sequence=1&isAllowed=y saving to /Users/richardabbey/Desktop/Data_Studio/fancy-charts/parliament/Auditor-%20General%20Reports%20on%20Ministries%2c%20Departments%20%26%20MDAs....pdf\n",
      "Downloading http://ir.parliament.gh//bitstream/handle/123456789/1498/2019_12_20_14_42_17.pdf?sequence=1&isAllowed=y saving to /Users/richardabbey/Desktop/Data_Studio/fancy-charts/parliament/2019_12_20_14_42_17.pdf\n",
      "Downloading http://ir.parliament.gh//bitstream/handle/123456789/1014/330223120358_0001.pdf?sequence=1&isAllowed=y saving to /Users/richardabbey/Desktop/Data_Studio/fancy-charts/parliament/330223120358_0001.pdf\n",
      "Downloading http://ir.parliament.gh//bitstream/handle/123456789/136/doc02649320151026125337.pdf?sequence=1&isAllowed=y saving to /Users/richardabbey/Desktop/Data_Studio/fancy-charts/parliament/doc02649320151026125337.pdf\n",
      "Downloading http://ir.parliament.gh//bitstream/handle/123456789/933/321016110219_0001.pdf?sequence=1&isAllowed=y saving to /Users/richardabbey/Desktop/Data_Studio/fancy-charts/parliament/321016110219_0001.pdf\n",
      "Downloading http://ir.parliament.gh//bitstream/handle/123456789/960/321107131746_0001.pdf?sequence=1&isAllowed=y saving to /Users/richardabbey/Desktop/Data_Studio/fancy-charts/parliament/321107131746_0001.pdf\n"
     ]
    },
    {
     "name": "stdout",
     "output_type": "stream",
     "text": [
      "Downloading http://ir.parliament.gh//bitstream/handle/123456789/414/doc05266720160715111654.pdf?sequence=1&isAllowed=y saving to /Users/richardabbey/Desktop/Data_Studio/fancy-charts/parliament/doc05266720160715111654.pdf\n",
      "Downloading http://ir.parliament.gh//bitstream/handle/123456789/1326/2019_07_17_13_38_06.pdf?sequence=1&isAllowed=y saving to /Users/richardabbey/Desktop/Data_Studio/fancy-charts/parliament/2019_07_17_13_38_06.pdf\n",
      "Downloading http://ir.parliament.gh//bitstream/handle/123456789/687/doc00194720170522062716.pdf?sequence=1&isAllowed=y saving to /Users/richardabbey/Desktop/Data_Studio/fancy-charts/parliament/doc00194720170522062716.pdf\n",
      "Downloading http://ir.parliament.gh//bitstream/handle/123456789/995/321124072825_0001.pdf?sequence=1&isAllowed=y saving to /Users/richardabbey/Desktop/Data_Studio/fancy-charts/parliament/321124072825_0001.pdf\n",
      "Downloading http://ir.parliament.gh//bitstream/handle/123456789/1217/330612093702_0001.pdf?sequence=1&isAllowed=y saving to /Users/richardabbey/Desktop/Data_Studio/fancy-charts/parliament/330612093702_0001.pdf\n",
      "Downloading http://ir.parliament.gh//bitstream/handle/123456789/1504/2019_12_20_15_09_28.pdf?sequence=1&isAllowed=y saving to /Users/richardabbey/Desktop/Data_Studio/fancy-charts/parliament/2019_12_20_15_09_28.pdf\n",
      "Downloading http://ir.parliament.gh//bitstream/handle/123456789/1532/2019_12_30_10_17_17.pdf?sequence=1&isAllowed=y saving to /Users/richardabbey/Desktop/Data_Studio/fancy-charts/parliament/2019_12_30_10_17_17.pdf\n",
      "Downloading http://ir.parliament.gh//bitstream/handle/123456789/1544/2019_12_23_13_04_12.pdf?sequence=1&isAllowed=y saving to /Users/richardabbey/Desktop/Data_Studio/fancy-charts/parliament/2019_12_23_13_04_12.pdf\n",
      "Downloading http://ir.parliament.gh//bitstream/handle/123456789/1479/2019_12_04_15_49_49.pdf?sequence=1&isAllowed=y saving to /Users/richardabbey/Desktop/Data_Studio/fancy-charts/parliament/2019_12_04_15_49_49.pdf\n",
      "Downloading http://ir.parliament.gh//bitstream/handle/123456789/1570/2020_01_20_10_13_48.pdf?sequence=1&isAllowed=y saving to /Users/richardabbey/Desktop/Data_Studio/fancy-charts/parliament/2020_01_20_10_13_48.pdf\n",
      "Downloading http://ir.parliament.gh//bitstream/handle/123456789/1572/2020_01_20_10_48_00.pdf?sequence=1&isAllowed=y saving to /Users/richardabbey/Desktop/Data_Studio/fancy-charts/parliament/2020_01_20_10_48_00.pdf\n",
      "Downloading http://ir.parliament.gh//bitstream/handle/123456789/807/doc00571920171024202900.pdf?sequence=1&isAllowed=y saving to /Users/richardabbey/Desktop/Data_Studio/fancy-charts/parliament/doc00571920171024202900.pdf\n",
      "Downloading http://ir.parliament.gh//bitstream/handle/123456789/786/doc00568820171024201647.pdf?sequence=1&isAllowed=y saving to /Users/richardabbey/Desktop/Data_Studio/fancy-charts/parliament/doc00568820171024201647.pdf\n",
      "Downloading http://ir.parliament.gh//bitstream/handle/123456789/1658/2020_05_22_12_40_22.pdf?sequence=1&isAllowed=y saving to /Users/richardabbey/Desktop/Data_Studio/fancy-charts/parliament/2020_05_22_12_40_22.pdf\n",
      "Downloading http://ir.parliament.gh//bitstream/handle/123456789/1989/THE%20DEVELOPMENT%20OF%20KUMASI%20AIRPORT%28%20PHASE%20III%29%20BY%20MESSRS%20CONTACTA.pdf?sequence=1&isAllowed=y saving to /Users/richardabbey/Desktop/Data_Studio/fancy-charts/parliament/THE%20DEVELOPMENT%20OF%20KUMASI%20AIRPORT%28%20PHASE%20III%29%20BY%20MESSRS%20CONTACTA.pdf\n",
      "Downloading http://ir.parliament.gh//bitstream/handle/123456789/1994/REHABILITATION%20AND%20UP-GRADING%20OF%20EQUIPMENT%20IN%20TECH.%20UNIVERSITIES.pdf?sequence=1&isAllowed=y saving to /Users/richardabbey/Desktop/Data_Studio/fancy-charts/parliament/REHABILITATION%20AND%20UP-GRADING%20OF%20EQUIPMENT%20IN%20TECH.%20UNIVERSITIES.pdf\n",
      "Downloading http://ir.parliament.gh//bitstream/handle/123456789/2017/The%20cost%20of%20donations%20of%20stocks%20of%20equipment%20and%20goods%20as%20relief.pdf?sequence=1&isAllowed=y saving to /Users/richardabbey/Desktop/Data_Studio/fancy-charts/parliament/The%20cost%20of%20donations%20of%20stocks%20of%20equipment%20and%20goods%20as%20relief.pdf\n",
      "Downloading http://ir.parliament.gh//bitstream/handle/123456789/2024/REHABILITATION%20AND%20AUXILIARY%20INFRASTRUCTURE%20%20OF%20KUMASI%20ROAD.pdf?sequence=1&isAllowed=y saving to /Users/richardabbey/Desktop/Data_Studio/fancy-charts/parliament/REHABILITATION%20AND%20AUXILIARY%20INFRASTRUCTURE%20%20OF%20KUMASI%20ROAD.pdf\n",
      "Downloading http://ir.parliament.gh//bitstream/handle/123456789/2022/GREATER%20ACCRA%20SUSTAINABLE%20SANITATION%20LIVELIHOOD%20IMPROVEMENT%20PROJ.pdf?sequence=1&isAllowed=y saving to /Users/richardabbey/Desktop/Data_Studio/fancy-charts/parliament/GREATER%20ACCRA%20SUSTAINABLE%20SANITATION%20LIVELIHOOD%20IMPROVEMENT%20PROJ.pdf\n",
      "Downloading http://ir.parliament.gh//bitstream/handle/123456789/2025/REHABILITATION%20AND%20UP-GRADING%20OF%20EQUIPMENT%20IN%20TECH.%20UNIVERSITIES.pdf?sequence=1&isAllowed=y saving to /Users/richardabbey/Desktop/Data_Studio/fancy-charts/parliament/REHABILITATION%20AND%20UP-GRADING%20OF%20EQUIPMENT%20IN%20TECH.%20UNIVERSITIES.pdf\n",
      "Downloading http://ir.parliament.gh//bitstream/handle/123456789/2129/THE%20CONSTRUCTION%20OF%20THE%20EASTERN%20CORRIDOR%20ROAS-LOT%201_TEMA-AKOSOMB.pdf?sequence=1&isAllowed=y saving to /Users/richardabbey/Desktop/Data_Studio/fancy-charts/parliament/THE%20CONSTRUCTION%20OF%20THE%20EASTERN%20CORRIDOR%20ROAS-LOT%201_TEMA-AKOSOMB.pdf\n",
      "Downloading http://ir.parliament.gh//bitstream/handle/123456789/2153/WATER%20SUPPLY%20PROJECT.pdf?sequence=1&isAllowed=y saving to /Users/richardabbey/Desktop/Data_Studio/fancy-charts/parliament/WATER%20SUPPLY%20PROJECT.pdf\n",
      "Downloading http://ir.parliament.gh//bitstream/handle/123456789/1974/THE%20ADJUNCT%20CLINICAL%20BLOCK%20AT%20THE%20BOLGA.REG.%20HOSP..pdf?sequence=1&isAllowed=y saving to /Users/richardabbey/Desktop/Data_Studio/fancy-charts/parliament/THE%20ADJUNCT%20CLINICAL%20BLOCK%20AT%20THE%20BOLGA.REG.%20HOSP..pdf\n",
      "Downloading http://ir.parliament.gh//bitstream/handle/123456789/1611/2018_12_14_13_15_59.pdf?sequence=1&isAllowed=y saving to /Users/richardabbey/Desktop/Data_Studio/fancy-charts/parliament/2018_12_14_13_15_59.pdf\n",
      "Downloading http://ir.parliament.gh//bitstream/handle/123456789/2118/THE%20STRENGTHENING%20INSTITUTIONAL%20CAPACITY%20FOR%20DOMESTIC%20RESOURCE%20.pdf?sequence=1&isAllowed=y saving to /Users/richardabbey/Desktop/Data_Studio/fancy-charts/parliament/THE%20STRENGTHENING%20INSTITUTIONAL%20CAPACITY%20FOR%20DOMESTIC%20RESOURCE%20.pdf\n",
      "Downloading http://ir.parliament.gh//bitstream/handle/123456789/1466/2019_12_03_12_24_17.pdf?sequence=1&isAllowed=y saving to /Users/richardabbey/Desktop/Data_Studio/fancy-charts/parliament/2019_12_03_12_24_17.pdf\n",
      "Downloading http://ir.parliament.gh//bitstream/handle/123456789/1655/2020_05_20_12_46_43.pdf?sequence=1&isAllowed=y saving to /Users/richardabbey/Desktop/Data_Studio/fancy-charts/parliament/2020_05_20_12_46_43.pdf\n",
      "Downloading http://ir.parliament.gh//bitstream/handle/123456789/2126/rural%20communities%20and%20small%20towns%20water%20supply%20project.pdf?sequence=1&isAllowed=y saving to /Users/richardabbey/Desktop/Data_Studio/fancy-charts/parliament/rural%20communities%20and%20small%20towns%20water%20supply%20project.pdf\n",
      "Downloading http://ir.parliament.gh//bitstream/handle/123456789/1000/321124074456_0001.pdf?sequence=1&isAllowed=y saving to /Users/richardabbey/Desktop/Data_Studio/fancy-charts/parliament/321124074456_0001.pdf\n",
      "Downloading http://ir.parliament.gh//bitstream/handle/123456789/948/321024123150_0001.pdf?sequence=1&isAllowed=y saving to /Users/richardabbey/Desktop/Data_Studio/fancy-charts/parliament/321024123150_0001.pdf\n",
      "Downloading http://ir.parliament.gh//bitstream/handle/123456789/1288/2019_06_21_11_37_20.pdf?sequence=1&isAllowed=y saving to /Users/richardabbey/Desktop/Data_Studio/fancy-charts/parliament/2019_06_21_11_37_20.pdf\n",
      "Downloading http://ir.parliament.gh//bitstream/handle/123456789/1169/330601104454_0001.pdf?sequence=1&isAllowed=y saving to /Users/richardabbey/Desktop/Data_Studio/fancy-charts/parliament/330601104454_0001.pdf\n",
      "Downloading http://ir.parliament.gh//bitstream/handle/123456789/964/321113121257_0001.pdf?sequence=1&isAllowed=y saving to /Users/richardabbey/Desktop/Data_Studio/fancy-charts/parliament/321113121257_0001.pdf\n"
     ]
    },
    {
     "name": "stdout",
     "output_type": "stream",
     "text": [
      "Downloading http://ir.parliament.gh//bitstream/handle/123456789/956/321107125155_0001.pdf?sequence=1&isAllowed=y saving to /Users/richardabbey/Desktop/Data_Studio/fancy-charts/parliament/321107125155_0001.pdf\n",
      "Downloading http://ir.parliament.gh//bitstream/handle/123456789/1329/2019_07_17_12_48_08.pdf?sequence=1&isAllowed=y saving to /Users/richardabbey/Desktop/Data_Studio/fancy-charts/parliament/2019_07_17_12_48_08.pdf\n",
      "Downloading http://ir.parliament.gh//bitstream/handle/123456789/1381/2019_07_29_15_05_16.pdf?sequence=1&isAllowed=y saving to /Users/richardabbey/Desktop/Data_Studio/fancy-charts/parliament/2019_07_29_15_05_16.pdf\n",
      "Downloading http://ir.parliament.gh//bitstream/handle/123456789/1468/2019_12_03_14_23_44.pdf?sequence=1&isAllowed=y saving to /Users/richardabbey/Desktop/Data_Studio/fancy-charts/parliament/2019_12_03_14_23_44.pdf\n",
      "Downloading http://ir.parliament.gh//bitstream/handle/123456789/1469/2019_12_03_14_40_28.pdf?sequence=1&isAllowed=y saving to /Users/richardabbey/Desktop/Data_Studio/fancy-charts/parliament/2019_12_03_14_40_28.pdf\n",
      "Downloading http://ir.parliament.gh//bitstream/handle/123456789/1496/2019_12_20_13_11_17.pdf?sequence=1&isAllowed=y saving to /Users/richardabbey/Desktop/Data_Studio/fancy-charts/parliament/2019_12_20_13_11_17.pdf\n",
      "Downloading http://ir.parliament.gh//bitstream/handle/123456789/1503/2019_12_20_15_06_11.pdf?sequence=1&isAllowed=y saving to /Users/richardabbey/Desktop/Data_Studio/fancy-charts/parliament/2019_12_20_15_06_11.pdf\n",
      "Downloading http://ir.parliament.gh//bitstream/handle/123456789/950/321016083056_0001.pdf?sequence=1&isAllowed=y saving to /Users/richardabbey/Desktop/Data_Studio/fancy-charts/parliament/321016083056_0001.pdf\n",
      "Downloading http://ir.parliament.gh//bitstream/handle/123456789/2117/PETERSFIELD%20AND%20REY%20LIMITED%20UNDER%20THE%20IMPLEMENTATION%20OF%201D1F.pdf?sequence=1&isAllowed=y saving to /Users/richardabbey/Desktop/Data_Studio/fancy-charts/parliament/PETERSFIELD%20AND%20REY%20LIMITED%20UNDER%20THE%20IMPLEMENTATION%20OF%201D1F.pdf\n",
      "Downloading http://ir.parliament.gh//bitstream/handle/123456789/2119/DELIVERY%20OF%20EMERGENCY%20HEALTH%20AND%20BLOOD%20PRODUCTS%20TO%20PUBLIC%20HEALTH.pdf?sequence=1&isAllowed=y saving to /Users/richardabbey/Desktop/Data_Studio/fancy-charts/parliament/DELIVERY%20OF%20EMERGENCY%20HEALTH%20AND%20BLOOD%20PRODUCTS%20TO%20PUBLIC%20HEALTH.pdf\n",
      "Downloading http://ir.parliament.gh//bitstream/handle/123456789/1033/330223065027_0001.pdf?sequence=1&isAllowed=y saving to /Users/richardabbey/Desktop/Data_Studio/fancy-charts/parliament/330223065027_0001.pdf\n",
      "Downloading http://ir.parliament.gh//bitstream/handle/123456789/1153/330529071927_0001.pdf?sequence=1&isAllowed=y saving to /Users/richardabbey/Desktop/Data_Studio/fancy-charts/parliament/330529071927_0001.pdf\n",
      "Downloading http://ir.parliament.gh//bitstream/handle/123456789/1315/REPORT%20OF%20THE%20FINANCE%20COMMITTEE%20ON%20THE%20REQUEST%20FOR%20WAIVER%20OF%20IMPORTS%20DUTIES%2cIMPORT%20VAT%2cGETFUND.....pdf?sequence=1&isAllowed=y saving to /Users/richardabbey/Desktop/Data_Studio/fancy-charts/parliament/REPORT%20OF%20THE%20FINANCE%20COMMITTEE%20ON%20THE%20REQUEST%20FOR%20WAIVER%20OF%20IMPORTS%20DUTIES%2cIMPORT%20VAT%2cGETFUND.....pdf\n",
      "Downloading http://ir.parliament.gh//bitstream/handle/123456789/2031/IMPLEMENTATION%20OF%20ACCRA%20INTELLIGENT%20TRAFFIC%20MANAGEMENT%20PROJECT.pdf?sequence=1&isAllowed=y saving to /Users/richardabbey/Desktop/Data_Studio/fancy-charts/parliament/IMPLEMENTATION%20OF%20ACCRA%20INTELLIGENT%20TRAFFIC%20MANAGEMENT%20PROJECT.pdf\n",
      "Downloading http://ir.parliament.gh//bitstream/handle/123456789/1269/330719130753_0001.pdf?sequence=1&isAllowed=y saving to /Users/richardabbey/Desktop/Data_Studio/fancy-charts/parliament/330719130753_0001.pdf\n",
      "Downloading http://ir.parliament.gh//bitstream/handle/123456789/798/doc00571020171024202553.pdf?sequence=1&isAllowed=y saving to /Users/richardabbey/Desktop/Data_Studio/fancy-charts/parliament/doc00571020171024202553.pdf\n",
      "Downloading http://ir.parliament.gh//bitstream/handle/123456789/1995/FOUR%20CONSTITUENCIES%20WATER%20SUPPLY%20SCHEME%2c%20PHASE%20III.pdf?sequence=1&isAllowed=y saving to /Users/richardabbey/Desktop/Data_Studio/fancy-charts/parliament/FOUR%20CONSTITUENCIES%20WATER%20SUPPLY%20SCHEME%2c%20PHASE%20III.pdf\n",
      "Downloading http://ir.parliament.gh//bitstream/handle/123456789/1201/330607095026_0001.pdf?sequence=1&isAllowed=y saving to /Users/richardabbey/Desktop/Data_Studio/fancy-charts/parliament/330607095026_0001.pdf\n",
      "Downloading http://ir.parliament.gh//bitstream/handle/123456789/436/doc04332120160506170858.pdf?sequence=1&isAllowed=y saving to /Users/richardabbey/Desktop/Data_Studio/fancy-charts/parliament/doc04332120160506170858.pdf\n",
      "Downloading http://ir.parliament.gh//bitstream/handle/123456789/132/doc02649420151026125356.pdf?sequence=1&isAllowed=y saving to /Users/richardabbey/Desktop/Data_Studio/fancy-charts/parliament/doc02649420151026125356.pdf\n",
      "Downloading http://ir.parliament.gh//bitstream/handle/123456789/2018/Insurance%20premium%20from%20Denmarks%20export%20credit%20agency%20_001.pdf?sequence=1&isAllowed=y saving to /Users/richardabbey/Desktop/Data_Studio/fancy-charts/parliament/Insurance%20premium%20from%20Denmarks%20export%20credit%20agency%20_001.pdf\n",
      "Downloading http://ir.parliament.gh//bitstream/handle/123456789/1442/1033%20COMMUNITIES.pdf?sequence=1&isAllowed=y saving to /Users/richardabbey/Desktop/Data_Studio/fancy-charts/parliament/1033%20COMMUNITIES.pdf\n"
     ]
    }
   ],
   "source": [
    "# loop through all search results\n",
    "for i in range(1,20):\n",
    "    url = f\"http://ir.parliament.gh/discover?scope=/&rpp=10&page={i}&query=tax+waiver&group_by=none&etal=0\"\n",
    "    response = requests.get(url, verify=False)\n",
    "    soup = BeautifulSoup(response.text, \"html.parser\")\n",
    "    search_results = soup.select(\".artifact-title a\")\n",
    "\n",
    "    for link in search_results:\n",
    "        try:\n",
    "# grab one search result and navigate to that page\n",
    "            result_url = f\"{BASE_URL}/{link['href']}\"\n",
    "            result_text = link.text\n",
    "            response = requests.get(result_url, verify=False)\n",
    "            soup = BeautifulSoup(response.text, \"html.parser\")     \n",
    "\n",
    "# get the file link off the page for each result\n",
    "            file_links = soup.select(\".file-wrapper a\")\n",
    "            assert(len(file_links)==2) \n",
    "            # Error out if there are not two links\n",
    "            file_link = f\"{BASE_URL}/{file_links[0]['href']}\"\n",
    "# Download PDF and save to file\n",
    "            filename = os.path.join(FOLDER_LOCATION,file_link.split('/')[-1].split('?')[0])\n",
    "            print(\"Downloading\", file_link, \"saving to\", filename)\n",
    "            with open(filename, 'wb') as f:\n",
    "                pdf_response = requests.get(file_link, verify=False)\n",
    "                f.write(pdf_response.content)\n",
    "        except: \n",
    "            print(f\"ERROR DOWNLOADING {link}\")\n",
    "\n",
    "# sleep to make sure we don't accidentally take down this website.\n",
    "    sleep(.2)"
   ]
  },
  {
   "cell_type": "code",
   "execution_count": null,
   "id": "642e2e52",
   "metadata": {},
   "outputs": [],
   "source": []
  }
 ],
 "metadata": {
  "kernelspec": {
   "display_name": "Python 3 (ipykernel)",
   "language": "python",
   "name": "python3"
  },
  "language_info": {
   "codemirror_mode": {
    "name": "ipython",
    "version": 3
   },
   "file_extension": ".py",
   "mimetype": "text/x-python",
   "name": "python",
   "nbconvert_exporter": "python",
   "pygments_lexer": "ipython3",
   "version": "3.9.7"
  }
 },
 "nbformat": 4,
 "nbformat_minor": 5
}
